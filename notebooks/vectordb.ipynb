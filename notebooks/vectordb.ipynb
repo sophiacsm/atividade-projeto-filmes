{
 "cells": [
  {
   "cell_type": "markdown",
   "metadata": {},
   "source": [
    "# Importar Bibliotecas"
   ]
  },
  {
   "cell_type": "code",
   "execution_count": 1,
   "metadata": {},
   "outputs": [],
   "source": [
    "import duckdb"
   ]
  },
  {
   "cell_type": "markdown",
   "metadata": {},
   "source": [
    "# Conectar com o BD - DuckDB"
   ]
  },
  {
   "cell_type": "code",
   "execution_count": 2,
   "metadata": {},
   "outputs": [],
   "source": [
    "# Conecta ao DuckDB\n",
    "# Conecta abrindo / criando um arquivo\n",
    "conexao = duckdb.connect('../dados/filme_duckdb.db')"
   ]
  },
  {
   "cell_type": "code",
   "execution_count": 7,
   "metadata": {},
   "outputs": [
    {
     "name": "stdout",
     "output_type": "stream",
     "text": [
      "\"O filme Proud American foi lançado em 2008\",\n",
      "\"O filme Good Boy foi lançado em 2022\",\n",
      "\"O filme Sex with Strangers foi lançado em 2002\",\n",
      "\"O filme C.B. Hustlers foi lançado em 1976\",\n",
      "\"O filme Generation Iron foi lançado em 2013\",\n",
      "\"O filme Monkey Warfare foi lançado em 2006\",\n",
      "\"O filme I Saw What You Did foi lançado em 1965\",\n",
      "\"O filme Beautiful Creatures foi lançado em 2013\",\n",
      "\"O filme Run and Kill foi lançado em 1993\",\n",
      "\"O filme Thunderbolt and Lightfoot foi lançado em 1974\",\n",
      "\"tt1008023\",\n",
      "\"tt19705884\",\n",
      "\"tt0304692\",\n",
      "\"tt0310837\",\n",
      "\"tt2205904\",\n",
      "\"tt0832906\",\n",
      "\"tt0059297\",\n",
      "\"tt1559547\",\n",
      "\"tt0108600\",\n",
      "\"tt0072288\",\n"
     ]
    }
   ],
   "source": [
    "query = 'SELECT id,Title,Year FROM filmes_imdb ORDER BY RANDOM() LIMIT 10'\n",
    "result = conexao.execute(query).fetchall()\n",
    "\n",
    "\n",
    "# Exibe os resultados\n",
    "for linha in result:\n",
    "    documents = f'\"O filme {linha[1]} foi lançado em {linha[2]}\",'\n",
    "    print(documents)\n",
    "\n",
    "# Exibe os resultados\n",
    "for linha in result:\n",
    "    ids = f'\"{linha[0]}\",'\n",
    "    print(ids)\n"
   ]
  },
  {
   "cell_type": "code",
   "execution_count": 9,
   "metadata": {},
   "outputs": [],
   "source": [
    "conexao.close()"
   ]
  }
 ],
 "metadata": {
  "kernelspec": {
   "display_name": "venv",
   "language": "python",
   "name": "python3"
  },
  "language_info": {
   "codemirror_mode": {
    "name": "ipython",
    "version": 3
   },
   "file_extension": ".py",
   "mimetype": "text/x-python",
   "name": "python",
   "nbconvert_exporter": "python",
   "pygments_lexer": "ipython3",
   "version": "3.11.6"
  }
 },
 "nbformat": 4,
 "nbformat_minor": 2
}
